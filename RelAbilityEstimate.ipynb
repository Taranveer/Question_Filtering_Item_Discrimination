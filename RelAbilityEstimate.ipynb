{
 "cells": [
  {
   "cell_type": "code",
   "execution_count": 71,
   "metadata": {
    "collapsed": false,
    "scrolled": true
   },
   "outputs": [],
   "source": [
    "import pandas as pd\n",
    "import numpy as np"
   ]
  },
  {
   "cell_type": "markdown",
   "metadata": {},
   "source": [
    "## Pre-processing"
   ]
  },
  {
   "cell_type": "code",
   "execution_count": 72,
   "metadata": {
    "collapsed": false
   },
   "outputs": [
    {
     "data": {
      "text/html": [
       "<div>\n",
       "<table border=\"1\" class=\"dataframe\">\n",
       "  <thead>\n",
       "    <tr style=\"text-align: right;\">\n",
       "      <th></th>\n",
       "      <th>question_id</th>\n",
       "      <th>user_id</th>\n",
       "      <th>correct</th>\n",
       "    </tr>\n",
       "  </thead>\n",
       "  <tbody>\n",
       "    <tr>\n",
       "      <th>0</th>\n",
       "      <td>13</td>\n",
       "      <td>63994</td>\n",
       "      <td>0</td>\n",
       "    </tr>\n",
       "    <tr>\n",
       "      <th>1</th>\n",
       "      <td>13</td>\n",
       "      <td>7633</td>\n",
       "      <td>0</td>\n",
       "    </tr>\n",
       "    <tr>\n",
       "      <th>2</th>\n",
       "      <td>13</td>\n",
       "      <td>33056</td>\n",
       "      <td>0</td>\n",
       "    </tr>\n",
       "    <tr>\n",
       "      <th>3</th>\n",
       "      <td>13</td>\n",
       "      <td>3714</td>\n",
       "      <td>1</td>\n",
       "    </tr>\n",
       "    <tr>\n",
       "      <th>4</th>\n",
       "      <td>13</td>\n",
       "      <td>17535</td>\n",
       "      <td>1</td>\n",
       "    </tr>\n",
       "  </tbody>\n",
       "</table>\n",
       "</div>"
      ],
      "text/plain": [
       "   question_id  user_id  correct\n",
       "0           13    63994        0\n",
       "1           13     7633        0\n",
       "2           13    33056        0\n",
       "3           13     3714        1\n",
       "4           13    17535        1"
      ]
     },
     "execution_count": 72,
     "metadata": {},
     "output_type": "execute_result"
    }
   ],
   "source": [
    "student_data = pd.read_csv(\"astudentData.csv\")\n",
    "student_data.head(n=5)"
   ]
  },
  {
   "cell_type": "code",
   "execution_count": 73,
   "metadata": {
    "collapsed": false
   },
   "outputs": [],
   "source": [
    "student_data = student_data.reset_index()\n",
    "student_data = student_data.drop('index', 1)\n",
    "student_data = student_data.drop_duplicates()"
   ]
  },
  {
   "cell_type": "code",
   "execution_count": 74,
   "metadata": {
    "collapsed": false,
    "scrolled": true
   },
   "outputs": [
    {
     "data": {
      "text/html": [
       "<div>\n",
       "<table border=\"1\" class=\"dataframe\">\n",
       "  <thead>\n",
       "    <tr style=\"text-align: right;\">\n",
       "      <th>question_id</th>\n",
       "      <th>13</th>\n",
       "      <th>21</th>\n",
       "      <th>26</th>\n",
       "      <th>27</th>\n",
       "      <th>28</th>\n",
       "      <th>37</th>\n",
       "      <th>44</th>\n",
       "      <th>45</th>\n",
       "      <th>53</th>\n",
       "      <th>54</th>\n",
       "      <th>...</th>\n",
       "      <th>15065</th>\n",
       "      <th>15071</th>\n",
       "      <th>15142</th>\n",
       "      <th>15147</th>\n",
       "      <th>15403</th>\n",
       "      <th>15412</th>\n",
       "      <th>15413</th>\n",
       "      <th>15415</th>\n",
       "      <th>15865</th>\n",
       "      <th>15872</th>\n",
       "    </tr>\n",
       "    <tr>\n",
       "      <th>user_id</th>\n",
       "      <th></th>\n",
       "      <th></th>\n",
       "      <th></th>\n",
       "      <th></th>\n",
       "      <th></th>\n",
       "      <th></th>\n",
       "      <th></th>\n",
       "      <th></th>\n",
       "      <th></th>\n",
       "      <th></th>\n",
       "      <th></th>\n",
       "      <th></th>\n",
       "      <th></th>\n",
       "      <th></th>\n",
       "      <th></th>\n",
       "      <th></th>\n",
       "      <th></th>\n",
       "      <th></th>\n",
       "      <th></th>\n",
       "      <th></th>\n",
       "      <th></th>\n",
       "    </tr>\n",
       "  </thead>\n",
       "  <tbody>\n",
       "    <tr>\n",
       "      <th>34</th>\n",
       "      <td>NaN</td>\n",
       "      <td>NaN</td>\n",
       "      <td>NaN</td>\n",
       "      <td>NaN</td>\n",
       "      <td>NaN</td>\n",
       "      <td>NaN</td>\n",
       "      <td>NaN</td>\n",
       "      <td>NaN</td>\n",
       "      <td>NaN</td>\n",
       "      <td>1.0</td>\n",
       "      <td>...</td>\n",
       "      <td>NaN</td>\n",
       "      <td>NaN</td>\n",
       "      <td>NaN</td>\n",
       "      <td>NaN</td>\n",
       "      <td>NaN</td>\n",
       "      <td>NaN</td>\n",
       "      <td>NaN</td>\n",
       "      <td>NaN</td>\n",
       "      <td>NaN</td>\n",
       "      <td>NaN</td>\n",
       "    </tr>\n",
       "    <tr>\n",
       "      <th>324</th>\n",
       "      <td>NaN</td>\n",
       "      <td>NaN</td>\n",
       "      <td>NaN</td>\n",
       "      <td>1.0</td>\n",
       "      <td>1.0</td>\n",
       "      <td>NaN</td>\n",
       "      <td>NaN</td>\n",
       "      <td>NaN</td>\n",
       "      <td>1.0</td>\n",
       "      <td>NaN</td>\n",
       "      <td>...</td>\n",
       "      <td>NaN</td>\n",
       "      <td>NaN</td>\n",
       "      <td>NaN</td>\n",
       "      <td>NaN</td>\n",
       "      <td>NaN</td>\n",
       "      <td>NaN</td>\n",
       "      <td>NaN</td>\n",
       "      <td>NaN</td>\n",
       "      <td>NaN</td>\n",
       "      <td>NaN</td>\n",
       "    </tr>\n",
       "    <tr>\n",
       "      <th>346</th>\n",
       "      <td>NaN</td>\n",
       "      <td>NaN</td>\n",
       "      <td>NaN</td>\n",
       "      <td>NaN</td>\n",
       "      <td>NaN</td>\n",
       "      <td>NaN</td>\n",
       "      <td>NaN</td>\n",
       "      <td>NaN</td>\n",
       "      <td>NaN</td>\n",
       "      <td>NaN</td>\n",
       "      <td>...</td>\n",
       "      <td>NaN</td>\n",
       "      <td>NaN</td>\n",
       "      <td>NaN</td>\n",
       "      <td>NaN</td>\n",
       "      <td>NaN</td>\n",
       "      <td>NaN</td>\n",
       "      <td>NaN</td>\n",
       "      <td>NaN</td>\n",
       "      <td>NaN</td>\n",
       "      <td>NaN</td>\n",
       "    </tr>\n",
       "    <tr>\n",
       "      <th>350</th>\n",
       "      <td>NaN</td>\n",
       "      <td>NaN</td>\n",
       "      <td>1.0</td>\n",
       "      <td>0.0</td>\n",
       "      <td>NaN</td>\n",
       "      <td>NaN</td>\n",
       "      <td>NaN</td>\n",
       "      <td>NaN</td>\n",
       "      <td>1.0</td>\n",
       "      <td>1.0</td>\n",
       "      <td>...</td>\n",
       "      <td>NaN</td>\n",
       "      <td>NaN</td>\n",
       "      <td>NaN</td>\n",
       "      <td>NaN</td>\n",
       "      <td>NaN</td>\n",
       "      <td>NaN</td>\n",
       "      <td>NaN</td>\n",
       "      <td>NaN</td>\n",
       "      <td>NaN</td>\n",
       "      <td>NaN</td>\n",
       "    </tr>\n",
       "    <tr>\n",
       "      <th>363</th>\n",
       "      <td>NaN</td>\n",
       "      <td>NaN</td>\n",
       "      <td>NaN</td>\n",
       "      <td>NaN</td>\n",
       "      <td>NaN</td>\n",
       "      <td>0.0</td>\n",
       "      <td>NaN</td>\n",
       "      <td>NaN</td>\n",
       "      <td>NaN</td>\n",
       "      <td>NaN</td>\n",
       "      <td>...</td>\n",
       "      <td>NaN</td>\n",
       "      <td>NaN</td>\n",
       "      <td>NaN</td>\n",
       "      <td>NaN</td>\n",
       "      <td>NaN</td>\n",
       "      <td>NaN</td>\n",
       "      <td>NaN</td>\n",
       "      <td>NaN</td>\n",
       "      <td>NaN</td>\n",
       "      <td>NaN</td>\n",
       "    </tr>\n",
       "  </tbody>\n",
       "</table>\n",
       "<p>5 rows × 391 columns</p>\n",
       "</div>"
      ],
      "text/plain": [
       "question_id  13     21     26     27     28     37     44     45     53     \\\n",
       "user_id                                                                      \n",
       "34             NaN    NaN    NaN    NaN    NaN    NaN    NaN    NaN    NaN   \n",
       "324            NaN    NaN    NaN    1.0    1.0    NaN    NaN    NaN    1.0   \n",
       "346            NaN    NaN    NaN    NaN    NaN    NaN    NaN    NaN    NaN   \n",
       "350            NaN    NaN    1.0    0.0    NaN    NaN    NaN    NaN    1.0   \n",
       "363            NaN    NaN    NaN    NaN    NaN    0.0    NaN    NaN    NaN   \n",
       "\n",
       "question_id  54     ...    15065  15071  15142  15147  15403  15412  15413  \\\n",
       "user_id             ...                                                      \n",
       "34             1.0  ...      NaN    NaN    NaN    NaN    NaN    NaN    NaN   \n",
       "324            NaN  ...      NaN    NaN    NaN    NaN    NaN    NaN    NaN   \n",
       "346            NaN  ...      NaN    NaN    NaN    NaN    NaN    NaN    NaN   \n",
       "350            1.0  ...      NaN    NaN    NaN    NaN    NaN    NaN    NaN   \n",
       "363            NaN  ...      NaN    NaN    NaN    NaN    NaN    NaN    NaN   \n",
       "\n",
       "question_id  15415  15865  15872  \n",
       "user_id                           \n",
       "34             NaN    NaN    NaN  \n",
       "324            NaN    NaN    NaN  \n",
       "346            NaN    NaN    NaN  \n",
       "350            NaN    NaN    NaN  \n",
       "363            NaN    NaN    NaN  \n",
       "\n",
       "[5 rows x 391 columns]"
      ]
     },
     "execution_count": 74,
     "metadata": {},
     "output_type": "execute_result"
    }
   ],
   "source": [
    "student_data_matrix = student_data.pivot_table(index = \"user_id\", columns = \"question_id\",values=\"correct\")\n",
    "student_data_matrix.head(n=5)"
   ]
  },
  {
   "cell_type": "markdown",
   "metadata": {},
   "source": [
    "### Relative Ability estimate"
   ]
  },
  {
   "cell_type": "markdown",
   "metadata": {},
   "source": [
    "#### User Mean calculation"
   ]
  },
  {
   "cell_type": "code",
   "execution_count": 75,
   "metadata": {
    "collapsed": false
   },
   "outputs": [
    {
     "data": {
      "text/plain": [
       "user_id\n",
       "34     0.811321\n",
       "324    0.736842\n",
       "346    0.222222\n",
       "350    0.489583\n",
       "363    0.409091\n",
       "dtype: float64"
      ]
     },
     "execution_count": 75,
     "metadata": {},
     "output_type": "execute_result"
    }
   ],
   "source": [
    "User_total_score = student_data_matrix.sum(axis=1,skipna=True)\n",
    "User_nresp = student_data_matrix.count(axis=1)\n",
    "User_mean = User_total_score/User_nresp\n",
    "User_mean.head(n=5)"
   ]
  },
  {
   "cell_type": "markdown",
   "metadata": {},
   "source": [
    "#### Item Mean Calculation"
   ]
  },
  {
   "cell_type": "code",
   "execution_count": 76,
   "metadata": {
    "collapsed": false
   },
   "outputs": [
    {
     "data": {
      "text/plain": [
       "question_id\n",
       "13    0.673749\n",
       "21    0.693931\n",
       "26    0.692102\n",
       "27    0.600000\n",
       "28    0.749750\n",
       "dtype: float64"
      ]
     },
     "execution_count": 76,
     "metadata": {},
     "output_type": "execute_result"
    }
   ],
   "source": [
    "Item_nresp = student_data_matrix.count(axis=0)\n",
    "Item_score = student_data_matrix.sum(axis=0,skipna=True)\n",
    "Item_mean = Item_score / Item_nresp\n",
    "Item_mean.head(n=5)"
   ]
  },
  {
   "cell_type": "markdown",
   "metadata": {},
   "source": [
    "#### User Relative Ability"
   ]
  },
  {
   "cell_type": "code",
   "execution_count": 77,
   "metadata": {
    "collapsed": true
   },
   "outputs": [],
   "source": [
    "def colRelative(x):\n",
    "    ser = x.notnull()\n",
    "    col = student_data_matrix.columns\n",
    "    Item_names = col[ser]\n",
    "    Obs_mean = sum(Item_mean[Item_names])/len(Item_mean[Item_names])\n",
    "    return Obs_mean"
   ]
  },
  {
   "cell_type": "code",
   "execution_count": 78,
   "metadata": {
    "collapsed": false
   },
   "outputs": [
    {
     "data": {
      "text/plain": [
       "user_id\n",
       "34     0.660103\n",
       "324    0.650735\n",
       "346    0.687002\n",
       "350    0.656134\n",
       "363    0.661626\n",
       "dtype: float64"
      ]
     },
     "execution_count": 78,
     "metadata": {},
     "output_type": "execute_result"
    }
   ],
   "source": [
    "relative_perf = student_data_matrix.apply(colRelative,axis=1)\n",
    "relative_perf.head(n=5)"
   ]
  },
  {
   "cell_type": "code",
   "execution_count": 79,
   "metadata": {
    "collapsed": false
   },
   "outputs": [
    {
     "data": {
      "text/plain": [
       "user_id\n",
       "34     1.229083\n",
       "324    1.132323\n",
       "346    0.323466\n",
       "350    0.746164\n",
       "363    0.618312\n",
       "dtype: float64"
      ]
     },
     "execution_count": 79,
     "metadata": {},
     "output_type": "execute_result"
    }
   ],
   "source": [
    "User_weight=User_mean/relative_perf\n",
    "User_weight.head(n=5)"
   ]
  },
  {
   "cell_type": "code",
   "execution_count": 80,
   "metadata": {
    "collapsed": false
   },
   "outputs": [
    {
     "data": {
      "text/html": [
       "<div>\n",
       "<table border=\"1\" class=\"dataframe\">\n",
       "  <thead>\n",
       "    <tr style=\"text-align: right;\">\n",
       "      <th>question_id</th>\n",
       "      <th>13</th>\n",
       "      <th>21</th>\n",
       "      <th>26</th>\n",
       "      <th>27</th>\n",
       "      <th>28</th>\n",
       "      <th>37</th>\n",
       "      <th>44</th>\n",
       "      <th>45</th>\n",
       "      <th>53</th>\n",
       "      <th>54</th>\n",
       "      <th>...</th>\n",
       "      <th>15065</th>\n",
       "      <th>15071</th>\n",
       "      <th>15142</th>\n",
       "      <th>15147</th>\n",
       "      <th>15403</th>\n",
       "      <th>15412</th>\n",
       "      <th>15413</th>\n",
       "      <th>15415</th>\n",
       "      <th>15865</th>\n",
       "      <th>15872</th>\n",
       "    </tr>\n",
       "    <tr>\n",
       "      <th>user_id</th>\n",
       "      <th></th>\n",
       "      <th></th>\n",
       "      <th></th>\n",
       "      <th></th>\n",
       "      <th></th>\n",
       "      <th></th>\n",
       "      <th></th>\n",
       "      <th></th>\n",
       "      <th></th>\n",
       "      <th></th>\n",
       "      <th></th>\n",
       "      <th></th>\n",
       "      <th></th>\n",
       "      <th></th>\n",
       "      <th></th>\n",
       "      <th></th>\n",
       "      <th></th>\n",
       "      <th></th>\n",
       "      <th></th>\n",
       "      <th></th>\n",
       "      <th></th>\n",
       "    </tr>\n",
       "  </thead>\n",
       "  <tbody>\n",
       "    <tr>\n",
       "      <th>34</th>\n",
       "      <td>NaN</td>\n",
       "      <td>NaN</td>\n",
       "      <td>NaN</td>\n",
       "      <td>NaN</td>\n",
       "      <td>NaN</td>\n",
       "      <td>NaN</td>\n",
       "      <td>NaN</td>\n",
       "      <td>NaN</td>\n",
       "      <td>NaN</td>\n",
       "      <td>1.0</td>\n",
       "      <td>...</td>\n",
       "      <td>NaN</td>\n",
       "      <td>NaN</td>\n",
       "      <td>NaN</td>\n",
       "      <td>NaN</td>\n",
       "      <td>NaN</td>\n",
       "      <td>NaN</td>\n",
       "      <td>NaN</td>\n",
       "      <td>NaN</td>\n",
       "      <td>NaN</td>\n",
       "      <td>NaN</td>\n",
       "    </tr>\n",
       "    <tr>\n",
       "      <th>324</th>\n",
       "      <td>NaN</td>\n",
       "      <td>NaN</td>\n",
       "      <td>NaN</td>\n",
       "      <td>1.0</td>\n",
       "      <td>1.0</td>\n",
       "      <td>NaN</td>\n",
       "      <td>NaN</td>\n",
       "      <td>NaN</td>\n",
       "      <td>1.0</td>\n",
       "      <td>NaN</td>\n",
       "      <td>...</td>\n",
       "      <td>NaN</td>\n",
       "      <td>NaN</td>\n",
       "      <td>NaN</td>\n",
       "      <td>NaN</td>\n",
       "      <td>NaN</td>\n",
       "      <td>NaN</td>\n",
       "      <td>NaN</td>\n",
       "      <td>NaN</td>\n",
       "      <td>NaN</td>\n",
       "      <td>NaN</td>\n",
       "    </tr>\n",
       "    <tr>\n",
       "      <th>346</th>\n",
       "      <td>NaN</td>\n",
       "      <td>NaN</td>\n",
       "      <td>NaN</td>\n",
       "      <td>NaN</td>\n",
       "      <td>NaN</td>\n",
       "      <td>NaN</td>\n",
       "      <td>NaN</td>\n",
       "      <td>NaN</td>\n",
       "      <td>NaN</td>\n",
       "      <td>NaN</td>\n",
       "      <td>...</td>\n",
       "      <td>NaN</td>\n",
       "      <td>NaN</td>\n",
       "      <td>NaN</td>\n",
       "      <td>NaN</td>\n",
       "      <td>NaN</td>\n",
       "      <td>NaN</td>\n",
       "      <td>NaN</td>\n",
       "      <td>NaN</td>\n",
       "      <td>NaN</td>\n",
       "      <td>NaN</td>\n",
       "    </tr>\n",
       "    <tr>\n",
       "      <th>350</th>\n",
       "      <td>NaN</td>\n",
       "      <td>NaN</td>\n",
       "      <td>1.0</td>\n",
       "      <td>0.0</td>\n",
       "      <td>NaN</td>\n",
       "      <td>NaN</td>\n",
       "      <td>NaN</td>\n",
       "      <td>NaN</td>\n",
       "      <td>1.0</td>\n",
       "      <td>1.0</td>\n",
       "      <td>...</td>\n",
       "      <td>NaN</td>\n",
       "      <td>NaN</td>\n",
       "      <td>NaN</td>\n",
       "      <td>NaN</td>\n",
       "      <td>NaN</td>\n",
       "      <td>NaN</td>\n",
       "      <td>NaN</td>\n",
       "      <td>NaN</td>\n",
       "      <td>NaN</td>\n",
       "      <td>NaN</td>\n",
       "    </tr>\n",
       "    <tr>\n",
       "      <th>363</th>\n",
       "      <td>NaN</td>\n",
       "      <td>NaN</td>\n",
       "      <td>NaN</td>\n",
       "      <td>NaN</td>\n",
       "      <td>NaN</td>\n",
       "      <td>0.0</td>\n",
       "      <td>NaN</td>\n",
       "      <td>NaN</td>\n",
       "      <td>NaN</td>\n",
       "      <td>NaN</td>\n",
       "      <td>...</td>\n",
       "      <td>NaN</td>\n",
       "      <td>NaN</td>\n",
       "      <td>NaN</td>\n",
       "      <td>NaN</td>\n",
       "      <td>NaN</td>\n",
       "      <td>NaN</td>\n",
       "      <td>NaN</td>\n",
       "      <td>NaN</td>\n",
       "      <td>NaN</td>\n",
       "      <td>NaN</td>\n",
       "    </tr>\n",
       "  </tbody>\n",
       "</table>\n",
       "<p>5 rows × 391 columns</p>\n",
       "</div>"
      ],
      "text/plain": [
       "question_id  13     21     26     27     28     37     44     45     53     \\\n",
       "user_id                                                                      \n",
       "34             NaN    NaN    NaN    NaN    NaN    NaN    NaN    NaN    NaN   \n",
       "324            NaN    NaN    NaN    1.0    1.0    NaN    NaN    NaN    1.0   \n",
       "346            NaN    NaN    NaN    NaN    NaN    NaN    NaN    NaN    NaN   \n",
       "350            NaN    NaN    1.0    0.0    NaN    NaN    NaN    NaN    1.0   \n",
       "363            NaN    NaN    NaN    NaN    NaN    0.0    NaN    NaN    NaN   \n",
       "\n",
       "question_id  54     ...    15065  15071  15142  15147  15403  15412  15413  \\\n",
       "user_id             ...                                                      \n",
       "34             1.0  ...      NaN    NaN    NaN    NaN    NaN    NaN    NaN   \n",
       "324            NaN  ...      NaN    NaN    NaN    NaN    NaN    NaN    NaN   \n",
       "346            NaN  ...      NaN    NaN    NaN    NaN    NaN    NaN    NaN   \n",
       "350            1.0  ...      NaN    NaN    NaN    NaN    NaN    NaN    NaN   \n",
       "363            NaN  ...      NaN    NaN    NaN    NaN    NaN    NaN    NaN   \n",
       "\n",
       "question_id  15415  15865  15872  \n",
       "user_id                           \n",
       "34             NaN    NaN    NaN  \n",
       "324            NaN    NaN    NaN  \n",
       "346            NaN    NaN    NaN  \n",
       "350            NaN    NaN    NaN  \n",
       "363            NaN    NaN    NaN  \n",
       "\n",
       "[5 rows x 391 columns]"
      ]
     },
     "execution_count": 80,
     "metadata": {},
     "output_type": "execute_result"
    }
   ],
   "source": [
    "student_data_sample = student_data_matrix.copy()\n",
    "student_data_sample.head(n=5)"
   ]
  },
  {
   "cell_type": "code",
   "execution_count": 81,
   "metadata": {
    "collapsed": true
   },
   "outputs": [],
   "source": [
    "misclass = 0\n",
    "total_val = 0\n",
    "for i in student_data_sample.columns:\n",
    "    output_data = User_weight*Item_mean[i]\n",
    "    output_data[output_data>=0.56]=1\n",
    "    output_data[output_data<0.56]=0\n",
    "    student_data_sample.loc[student_data_sample[i].isnull(),i]=output_data[student_data_sample[i].isnull()]\n",
    "    predicted_labels = output_data[student_data_matrix.loc[:,i].notnull()]\n",
    "    actual_labels = student_data_matrix.loc[student_data_matrix.loc[:,i].notnull(),i]\n",
    "    diff=predicted_labels-actual_labels\n",
    "    misclass = misclass + len(diff[diff!=0])\n",
    "    total_val = total_val + len(actual_labels)"
   ]
  },
  {
   "cell_type": "markdown",
   "metadata": {},
   "source": [
    "##### Accuracy on how well the information is captured through Relative Ranking estimate"
   ]
  },
  {
   "cell_type": "code",
   "execution_count": 82,
   "metadata": {
    "collapsed": false
   },
   "outputs": [
    {
     "data": {
      "text/plain": [
       "0.7516631986166877"
      ]
     },
     "execution_count": 82,
     "metadata": {},
     "output_type": "execute_result"
    }
   ],
   "source": [
    "accuracy_rel_ability = 1-(float(misclass)/float(total_val))\n",
    "accuracy_rel_ability"
   ]
  },
  {
   "cell_type": "markdown",
   "metadata": {},
   "source": [
    "## Imputation (Collaborative Filtering + Relative Ability estimate)"
   ]
  },
  {
   "cell_type": "markdown",
   "metadata": {},
   "source": [
    "### Collaborative Filtering"
   ]
  },
  {
   "cell_type": "code",
   "execution_count": 83,
   "metadata": {
    "collapsed": false
   },
   "outputs": [
    {
     "data": {
      "text/html": [
       "<div>\n",
       "<table border=\"1\" class=\"dataframe\">\n",
       "  <thead>\n",
       "    <tr style=\"text-align: right;\">\n",
       "      <th>user_id</th>\n",
       "      <th>34</th>\n",
       "      <th>324</th>\n",
       "      <th>346</th>\n",
       "      <th>350</th>\n",
       "      <th>363</th>\n",
       "      <th>364</th>\n",
       "      <th>372</th>\n",
       "      <th>377</th>\n",
       "      <th>378</th>\n",
       "      <th>379</th>\n",
       "      <th>...</th>\n",
       "      <th>118131</th>\n",
       "      <th>118133</th>\n",
       "      <th>118135</th>\n",
       "      <th>118139</th>\n",
       "      <th>118140</th>\n",
       "      <th>118144</th>\n",
       "      <th>118156</th>\n",
       "      <th>118165</th>\n",
       "      <th>118255</th>\n",
       "      <th>118275</th>\n",
       "    </tr>\n",
       "    <tr>\n",
       "      <th>question_id</th>\n",
       "      <th></th>\n",
       "      <th></th>\n",
       "      <th></th>\n",
       "      <th></th>\n",
       "      <th></th>\n",
       "      <th></th>\n",
       "      <th></th>\n",
       "      <th></th>\n",
       "      <th></th>\n",
       "      <th></th>\n",
       "      <th></th>\n",
       "      <th></th>\n",
       "      <th></th>\n",
       "      <th></th>\n",
       "      <th></th>\n",
       "      <th></th>\n",
       "      <th></th>\n",
       "      <th></th>\n",
       "      <th></th>\n",
       "      <th></th>\n",
       "      <th></th>\n",
       "    </tr>\n",
       "  </thead>\n",
       "  <tbody>\n",
       "    <tr>\n",
       "      <th>13</th>\n",
       "      <td>NaN</td>\n",
       "      <td>NaN</td>\n",
       "      <td>NaN</td>\n",
       "      <td>NaN</td>\n",
       "      <td>NaN</td>\n",
       "      <td>NaN</td>\n",
       "      <td>NaN</td>\n",
       "      <td>NaN</td>\n",
       "      <td>NaN</td>\n",
       "      <td>NaN</td>\n",
       "      <td>...</td>\n",
       "      <td>NaN</td>\n",
       "      <td>NaN</td>\n",
       "      <td>NaN</td>\n",
       "      <td>NaN</td>\n",
       "      <td>NaN</td>\n",
       "      <td>NaN</td>\n",
       "      <td>NaN</td>\n",
       "      <td>NaN</td>\n",
       "      <td>NaN</td>\n",
       "      <td>NaN</td>\n",
       "    </tr>\n",
       "    <tr>\n",
       "      <th>21</th>\n",
       "      <td>NaN</td>\n",
       "      <td>NaN</td>\n",
       "      <td>NaN</td>\n",
       "      <td>NaN</td>\n",
       "      <td>NaN</td>\n",
       "      <td>NaN</td>\n",
       "      <td>NaN</td>\n",
       "      <td>NaN</td>\n",
       "      <td>NaN</td>\n",
       "      <td>NaN</td>\n",
       "      <td>...</td>\n",
       "      <td>0.0</td>\n",
       "      <td>NaN</td>\n",
       "      <td>NaN</td>\n",
       "      <td>NaN</td>\n",
       "      <td>NaN</td>\n",
       "      <td>NaN</td>\n",
       "      <td>NaN</td>\n",
       "      <td>NaN</td>\n",
       "      <td>NaN</td>\n",
       "      <td>NaN</td>\n",
       "    </tr>\n",
       "    <tr>\n",
       "      <th>26</th>\n",
       "      <td>NaN</td>\n",
       "      <td>NaN</td>\n",
       "      <td>NaN</td>\n",
       "      <td>1.0</td>\n",
       "      <td>NaN</td>\n",
       "      <td>NaN</td>\n",
       "      <td>NaN</td>\n",
       "      <td>NaN</td>\n",
       "      <td>NaN</td>\n",
       "      <td>NaN</td>\n",
       "      <td>...</td>\n",
       "      <td>NaN</td>\n",
       "      <td>NaN</td>\n",
       "      <td>NaN</td>\n",
       "      <td>NaN</td>\n",
       "      <td>NaN</td>\n",
       "      <td>NaN</td>\n",
       "      <td>NaN</td>\n",
       "      <td>NaN</td>\n",
       "      <td>NaN</td>\n",
       "      <td>NaN</td>\n",
       "    </tr>\n",
       "    <tr>\n",
       "      <th>27</th>\n",
       "      <td>NaN</td>\n",
       "      <td>1.0</td>\n",
       "      <td>NaN</td>\n",
       "      <td>0.0</td>\n",
       "      <td>NaN</td>\n",
       "      <td>NaN</td>\n",
       "      <td>NaN</td>\n",
       "      <td>NaN</td>\n",
       "      <td>0.0</td>\n",
       "      <td>NaN</td>\n",
       "      <td>...</td>\n",
       "      <td>NaN</td>\n",
       "      <td>NaN</td>\n",
       "      <td>NaN</td>\n",
       "      <td>NaN</td>\n",
       "      <td>NaN</td>\n",
       "      <td>NaN</td>\n",
       "      <td>NaN</td>\n",
       "      <td>NaN</td>\n",
       "      <td>NaN</td>\n",
       "      <td>NaN</td>\n",
       "    </tr>\n",
       "    <tr>\n",
       "      <th>28</th>\n",
       "      <td>NaN</td>\n",
       "      <td>1.0</td>\n",
       "      <td>NaN</td>\n",
       "      <td>NaN</td>\n",
       "      <td>NaN</td>\n",
       "      <td>NaN</td>\n",
       "      <td>NaN</td>\n",
       "      <td>NaN</td>\n",
       "      <td>NaN</td>\n",
       "      <td>1.0</td>\n",
       "      <td>...</td>\n",
       "      <td>NaN</td>\n",
       "      <td>NaN</td>\n",
       "      <td>NaN</td>\n",
       "      <td>NaN</td>\n",
       "      <td>NaN</td>\n",
       "      <td>NaN</td>\n",
       "      <td>NaN</td>\n",
       "      <td>NaN</td>\n",
       "      <td>NaN</td>\n",
       "      <td>NaN</td>\n",
       "    </tr>\n",
       "  </tbody>\n",
       "</table>\n",
       "<p>5 rows × 12839 columns</p>\n",
       "</div>"
      ],
      "text/plain": [
       "user_id      34      324     346     350     363     364     372     377     \\\n",
       "question_id                                                                   \n",
       "13              NaN     NaN     NaN     NaN     NaN     NaN     NaN     NaN   \n",
       "21              NaN     NaN     NaN     NaN     NaN     NaN     NaN     NaN   \n",
       "26              NaN     NaN     NaN     1.0     NaN     NaN     NaN     NaN   \n",
       "27              NaN     1.0     NaN     0.0     NaN     NaN     NaN     NaN   \n",
       "28              NaN     1.0     NaN     NaN     NaN     NaN     NaN     NaN   \n",
       "\n",
       "user_id      378     379      ...    118131  118133  118135  118139  118140  \\\n",
       "question_id                   ...                                             \n",
       "13              NaN     NaN   ...       NaN     NaN     NaN     NaN     NaN   \n",
       "21              NaN     NaN   ...       0.0     NaN     NaN     NaN     NaN   \n",
       "26              NaN     NaN   ...       NaN     NaN     NaN     NaN     NaN   \n",
       "27              0.0     NaN   ...       NaN     NaN     NaN     NaN     NaN   \n",
       "28              NaN     1.0   ...       NaN     NaN     NaN     NaN     NaN   \n",
       "\n",
       "user_id      118144  118156  118165  118255  118275  \n",
       "question_id                                          \n",
       "13              NaN     NaN     NaN     NaN     NaN  \n",
       "21              NaN     NaN     NaN     NaN     NaN  \n",
       "26              NaN     NaN     NaN     NaN     NaN  \n",
       "27              NaN     NaN     NaN     NaN     NaN  \n",
       "28              NaN     NaN     NaN     NaN     NaN  \n",
       "\n",
       "[5 rows x 12839 columns]"
      ]
     },
     "execution_count": 83,
     "metadata": {},
     "output_type": "execute_result"
    }
   ],
   "source": [
    "user_item_matrix = student_data.pivot_table(index = \"question_id\", columns = \"user_id\",values=\"correct\")\n",
    "user_item_matrix.head(n=5)"
   ]
  },
  {
   "cell_type": "code",
   "execution_count": 84,
   "metadata": {
    "collapsed": true
   },
   "outputs": [],
   "source": [
    "corr_matrix=user_item_matrix.corr(method=\"pearson\",min_periods=13)"
   ]
  },
  {
   "cell_type": "code",
   "execution_count": 85,
   "metadata": {
    "collapsed": true
   },
   "outputs": [],
   "source": [
    "for col in user_item_matrix.columns:\n",
    "    sim_user = corr_matrix.loc[:,col]\n",
    "    sim_user = sim_user[sim_user.notnull()].sort_values(ascending=False)\n",
    "    sim_user = sim_user[sim_user>0.8].index\n",
    "    peer_response = user_item_matrix.loc[user_item_matrix.loc[:,col].isnull(),sim_user]\n",
    "    peer_response = peer_response.dropna(axis=0,how=\"all\")\n",
    "    predicted_labels = peer_response.sum(axis=1)/(sim_user.shape[0]-1)\n",
    "    predicted_labels[predicted_labels>=0.5] = 1\n",
    "    predicted_labels[predicted_labels<0.5] = 0\n",
    "    user_item_matrix.loc[predicted_labels.index,col] = predicted_labels"
   ]
  },
  {
   "cell_type": "code",
   "execution_count": 86,
   "metadata": {
    "collapsed": false
   },
   "outputs": [
    {
     "data": {
      "text/html": [
       "<div>\n",
       "<table border=\"1\" class=\"dataframe\">\n",
       "  <thead>\n",
       "    <tr style=\"text-align: right;\">\n",
       "      <th>question_id</th>\n",
       "      <th>13</th>\n",
       "      <th>21</th>\n",
       "      <th>26</th>\n",
       "      <th>27</th>\n",
       "      <th>28</th>\n",
       "      <th>37</th>\n",
       "      <th>44</th>\n",
       "      <th>45</th>\n",
       "      <th>53</th>\n",
       "      <th>54</th>\n",
       "      <th>...</th>\n",
       "      <th>15065</th>\n",
       "      <th>15071</th>\n",
       "      <th>15142</th>\n",
       "      <th>15147</th>\n",
       "      <th>15403</th>\n",
       "      <th>15412</th>\n",
       "      <th>15413</th>\n",
       "      <th>15415</th>\n",
       "      <th>15865</th>\n",
       "      <th>15872</th>\n",
       "    </tr>\n",
       "    <tr>\n",
       "      <th>user_id</th>\n",
       "      <th></th>\n",
       "      <th></th>\n",
       "      <th></th>\n",
       "      <th></th>\n",
       "      <th></th>\n",
       "      <th></th>\n",
       "      <th></th>\n",
       "      <th></th>\n",
       "      <th></th>\n",
       "      <th></th>\n",
       "      <th></th>\n",
       "      <th></th>\n",
       "      <th></th>\n",
       "      <th></th>\n",
       "      <th></th>\n",
       "      <th></th>\n",
       "      <th></th>\n",
       "      <th></th>\n",
       "      <th></th>\n",
       "      <th></th>\n",
       "      <th></th>\n",
       "    </tr>\n",
       "  </thead>\n",
       "  <tbody>\n",
       "    <tr>\n",
       "      <th>34</th>\n",
       "      <td>0.0</td>\n",
       "      <td>NaN</td>\n",
       "      <td>0.0</td>\n",
       "      <td>0.0</td>\n",
       "      <td>0.0</td>\n",
       "      <td>0.0</td>\n",
       "      <td>0.0</td>\n",
       "      <td>0.0</td>\n",
       "      <td>0.0</td>\n",
       "      <td>1.0</td>\n",
       "      <td>...</td>\n",
       "      <td>0.0</td>\n",
       "      <td>0.0</td>\n",
       "      <td>0.0</td>\n",
       "      <td>0.0</td>\n",
       "      <td>0.0</td>\n",
       "      <td>0.0</td>\n",
       "      <td>0.0</td>\n",
       "      <td>0.0</td>\n",
       "      <td>0.0</td>\n",
       "      <td>0.0</td>\n",
       "    </tr>\n",
       "    <tr>\n",
       "      <th>324</th>\n",
       "      <td>1.0</td>\n",
       "      <td>NaN</td>\n",
       "      <td>0.0</td>\n",
       "      <td>1.0</td>\n",
       "      <td>1.0</td>\n",
       "      <td>1.0</td>\n",
       "      <td>0.0</td>\n",
       "      <td>0.0</td>\n",
       "      <td>1.0</td>\n",
       "      <td>1.0</td>\n",
       "      <td>...</td>\n",
       "      <td>NaN</td>\n",
       "      <td>NaN</td>\n",
       "      <td>NaN</td>\n",
       "      <td>NaN</td>\n",
       "      <td>NaN</td>\n",
       "      <td>NaN</td>\n",
       "      <td>NaN</td>\n",
       "      <td>NaN</td>\n",
       "      <td>NaN</td>\n",
       "      <td>NaN</td>\n",
       "    </tr>\n",
       "    <tr>\n",
       "      <th>346</th>\n",
       "      <td>NaN</td>\n",
       "      <td>NaN</td>\n",
       "      <td>NaN</td>\n",
       "      <td>NaN</td>\n",
       "      <td>NaN</td>\n",
       "      <td>NaN</td>\n",
       "      <td>NaN</td>\n",
       "      <td>NaN</td>\n",
       "      <td>NaN</td>\n",
       "      <td>NaN</td>\n",
       "      <td>...</td>\n",
       "      <td>NaN</td>\n",
       "      <td>NaN</td>\n",
       "      <td>NaN</td>\n",
       "      <td>NaN</td>\n",
       "      <td>NaN</td>\n",
       "      <td>NaN</td>\n",
       "      <td>NaN</td>\n",
       "      <td>NaN</td>\n",
       "      <td>NaN</td>\n",
       "      <td>NaN</td>\n",
       "    </tr>\n",
       "    <tr>\n",
       "      <th>350</th>\n",
       "      <td>NaN</td>\n",
       "      <td>NaN</td>\n",
       "      <td>1.0</td>\n",
       "      <td>0.0</td>\n",
       "      <td>NaN</td>\n",
       "      <td>NaN</td>\n",
       "      <td>NaN</td>\n",
       "      <td>NaN</td>\n",
       "      <td>1.0</td>\n",
       "      <td>1.0</td>\n",
       "      <td>...</td>\n",
       "      <td>NaN</td>\n",
       "      <td>NaN</td>\n",
       "      <td>NaN</td>\n",
       "      <td>NaN</td>\n",
       "      <td>NaN</td>\n",
       "      <td>NaN</td>\n",
       "      <td>NaN</td>\n",
       "      <td>NaN</td>\n",
       "      <td>NaN</td>\n",
       "      <td>NaN</td>\n",
       "    </tr>\n",
       "    <tr>\n",
       "      <th>363</th>\n",
       "      <td>NaN</td>\n",
       "      <td>NaN</td>\n",
       "      <td>NaN</td>\n",
       "      <td>NaN</td>\n",
       "      <td>0.0</td>\n",
       "      <td>0.0</td>\n",
       "      <td>NaN</td>\n",
       "      <td>0.0</td>\n",
       "      <td>NaN</td>\n",
       "      <td>NaN</td>\n",
       "      <td>...</td>\n",
       "      <td>NaN</td>\n",
       "      <td>NaN</td>\n",
       "      <td>NaN</td>\n",
       "      <td>NaN</td>\n",
       "      <td>NaN</td>\n",
       "      <td>NaN</td>\n",
       "      <td>NaN</td>\n",
       "      <td>NaN</td>\n",
       "      <td>NaN</td>\n",
       "      <td>NaN</td>\n",
       "    </tr>\n",
       "  </tbody>\n",
       "</table>\n",
       "<p>5 rows × 391 columns</p>\n",
       "</div>"
      ],
      "text/plain": [
       "question_id  13     21     26     27     28     37     44     45     53     \\\n",
       "user_id                                                                      \n",
       "34             0.0    NaN    0.0    0.0    0.0    0.0    0.0    0.0    0.0   \n",
       "324            1.0    NaN    0.0    1.0    1.0    1.0    0.0    0.0    1.0   \n",
       "346            NaN    NaN    NaN    NaN    NaN    NaN    NaN    NaN    NaN   \n",
       "350            NaN    NaN    1.0    0.0    NaN    NaN    NaN    NaN    1.0   \n",
       "363            NaN    NaN    NaN    NaN    0.0    0.0    NaN    0.0    NaN   \n",
       "\n",
       "question_id  54     ...    15065  15071  15142  15147  15403  15412  15413  \\\n",
       "user_id             ...                                                      \n",
       "34             1.0  ...      0.0    0.0    0.0    0.0    0.0    0.0    0.0   \n",
       "324            1.0  ...      NaN    NaN    NaN    NaN    NaN    NaN    NaN   \n",
       "346            NaN  ...      NaN    NaN    NaN    NaN    NaN    NaN    NaN   \n",
       "350            1.0  ...      NaN    NaN    NaN    NaN    NaN    NaN    NaN   \n",
       "363            NaN  ...      NaN    NaN    NaN    NaN    NaN    NaN    NaN   \n",
       "\n",
       "question_id  15415  15865  15872  \n",
       "user_id                           \n",
       "34             0.0    0.0    0.0  \n",
       "324            NaN    NaN    NaN  \n",
       "346            NaN    NaN    NaN  \n",
       "350            NaN    NaN    NaN  \n",
       "363            NaN    NaN    NaN  \n",
       "\n",
       "[5 rows x 391 columns]"
      ]
     },
     "execution_count": 86,
     "metadata": {},
     "output_type": "execute_result"
    }
   ],
   "source": [
    "student_data_matrix = user_item_matrix.transpose()\n",
    "student_data_matrix.head(n=5)"
   ]
  },
  {
   "cell_type": "markdown",
   "metadata": {},
   "source": [
    "### Relative Ability estimate followed by Collabirative Filtering"
   ]
  },
  {
   "cell_type": "markdown",
   "metadata": {},
   "source": [
    "#### User Mean calculation"
   ]
  },
  {
   "cell_type": "code",
   "execution_count": 87,
   "metadata": {
    "collapsed": false,
    "scrolled": true
   },
   "outputs": [
    {
     "data": {
      "text/plain": [
       "user_id\n",
       "34     0.152542\n",
       "324    0.451613\n",
       "346    0.222222\n",
       "350    0.518987\n",
       "363    0.421687\n",
       "dtype: float64"
      ]
     },
     "execution_count": 87,
     "metadata": {},
     "output_type": "execute_result"
    }
   ],
   "source": [
    "User_total_score = student_data_matrix.sum(axis=1,skipna=True)\n",
    "User_nresp = student_data_matrix.count(axis=1)\n",
    "User_mean = User_total_score/User_nresp\n",
    "User_mean.head(n=5)"
   ]
  },
  {
   "cell_type": "markdown",
   "metadata": {},
   "source": [
    "#### Item Mean Calculation"
   ]
  },
  {
   "cell_type": "code",
   "execution_count": 88,
   "metadata": {
    "collapsed": false,
    "scrolled": true
   },
   "outputs": [
    {
     "data": {
      "text/plain": [
       "question_id\n",
       "13    0.251149\n",
       "21    0.122569\n",
       "26    0.214137\n",
       "27    0.280702\n",
       "28    0.303502\n",
       "dtype: float64"
      ]
     },
     "execution_count": 88,
     "metadata": {},
     "output_type": "execute_result"
    }
   ],
   "source": [
    "Item_nresp = student_data_matrix.count(axis=0)\n",
    "Item_score = student_data_matrix.sum(axis=0,skipna=True)\n",
    "Item_mean = Item_score / Item_nresp\n",
    "Item_mean.head(n=5)"
   ]
  },
  {
   "cell_type": "markdown",
   "metadata": {},
   "source": [
    "#### User Relative Ability"
   ]
  },
  {
   "cell_type": "code",
   "execution_count": 89,
   "metadata": {
    "collapsed": false,
    "scrolled": true
   },
   "outputs": [],
   "source": [
    "def colRelative(x):\n",
    "    ser = x.notnull()\n",
    "    col = student_data_matrix.columns\n",
    "    Item_names = col[ser]\n",
    "    Obs_mean = sum(Item_mean[Item_names])/len(Item_mean[Item_names])\n",
    "    return Obs_mean"
   ]
  },
  {
   "cell_type": "code",
   "execution_count": 90,
   "metadata": {
    "collapsed": false
   },
   "outputs": [
    {
     "data": {
      "text/plain": [
       "user_id\n",
       "34     0.270593\n",
       "324    0.267377\n",
       "346    0.274546\n",
       "350    0.299330\n",
       "363    0.283552\n",
       "dtype: float64"
      ]
     },
     "execution_count": 90,
     "metadata": {},
     "output_type": "execute_result"
    }
   ],
   "source": [
    "relative_perf = student_data_matrix.apply(colRelative,axis=1)\n",
    "relative_perf.head(n=5)"
   ]
  },
  {
   "cell_type": "code",
   "execution_count": 91,
   "metadata": {
    "collapsed": false
   },
   "outputs": [
    {
     "data": {
      "text/plain": [
       "user_id\n",
       "34     0.563734\n",
       "324    1.689049\n",
       "346    0.809417\n",
       "350    1.733828\n",
       "363    1.487161\n",
       "dtype: float64"
      ]
     },
     "execution_count": 91,
     "metadata": {},
     "output_type": "execute_result"
    }
   ],
   "source": [
    "User_weight=User_mean/relative_perf\n",
    "User_weight.head(n=5)"
   ]
  },
  {
   "cell_type": "markdown",
   "metadata": {},
   "source": [
    "#### Imputation Calculation"
   ]
  },
  {
   "cell_type": "code",
   "execution_count": 92,
   "metadata": {
    "collapsed": false,
    "scrolled": true
   },
   "outputs": [
    {
     "data": {
      "text/html": [
       "<div>\n",
       "<table border=\"1\" class=\"dataframe\">\n",
       "  <thead>\n",
       "    <tr style=\"text-align: right;\">\n",
       "      <th>question_id</th>\n",
       "      <th>13</th>\n",
       "      <th>21</th>\n",
       "      <th>26</th>\n",
       "      <th>27</th>\n",
       "      <th>28</th>\n",
       "      <th>37</th>\n",
       "      <th>44</th>\n",
       "      <th>45</th>\n",
       "      <th>53</th>\n",
       "      <th>54</th>\n",
       "      <th>...</th>\n",
       "      <th>15065</th>\n",
       "      <th>15071</th>\n",
       "      <th>15142</th>\n",
       "      <th>15147</th>\n",
       "      <th>15403</th>\n",
       "      <th>15412</th>\n",
       "      <th>15413</th>\n",
       "      <th>15415</th>\n",
       "      <th>15865</th>\n",
       "      <th>15872</th>\n",
       "    </tr>\n",
       "    <tr>\n",
       "      <th>user_id</th>\n",
       "      <th></th>\n",
       "      <th></th>\n",
       "      <th></th>\n",
       "      <th></th>\n",
       "      <th></th>\n",
       "      <th></th>\n",
       "      <th></th>\n",
       "      <th></th>\n",
       "      <th></th>\n",
       "      <th></th>\n",
       "      <th></th>\n",
       "      <th></th>\n",
       "      <th></th>\n",
       "      <th></th>\n",
       "      <th></th>\n",
       "      <th></th>\n",
       "      <th></th>\n",
       "      <th></th>\n",
       "      <th></th>\n",
       "      <th></th>\n",
       "      <th></th>\n",
       "    </tr>\n",
       "  </thead>\n",
       "  <tbody>\n",
       "    <tr>\n",
       "      <th>34</th>\n",
       "      <td>0.0</td>\n",
       "      <td>NaN</td>\n",
       "      <td>0.0</td>\n",
       "      <td>0.0</td>\n",
       "      <td>0.0</td>\n",
       "      <td>0.0</td>\n",
       "      <td>0.0</td>\n",
       "      <td>0.0</td>\n",
       "      <td>0.0</td>\n",
       "      <td>1.0</td>\n",
       "      <td>...</td>\n",
       "      <td>0.0</td>\n",
       "      <td>0.0</td>\n",
       "      <td>0.0</td>\n",
       "      <td>0.0</td>\n",
       "      <td>0.0</td>\n",
       "      <td>0.0</td>\n",
       "      <td>0.0</td>\n",
       "      <td>0.0</td>\n",
       "      <td>0.0</td>\n",
       "      <td>0.0</td>\n",
       "    </tr>\n",
       "    <tr>\n",
       "      <th>324</th>\n",
       "      <td>1.0</td>\n",
       "      <td>NaN</td>\n",
       "      <td>0.0</td>\n",
       "      <td>1.0</td>\n",
       "      <td>1.0</td>\n",
       "      <td>1.0</td>\n",
       "      <td>0.0</td>\n",
       "      <td>0.0</td>\n",
       "      <td>1.0</td>\n",
       "      <td>1.0</td>\n",
       "      <td>...</td>\n",
       "      <td>NaN</td>\n",
       "      <td>NaN</td>\n",
       "      <td>NaN</td>\n",
       "      <td>NaN</td>\n",
       "      <td>NaN</td>\n",
       "      <td>NaN</td>\n",
       "      <td>NaN</td>\n",
       "      <td>NaN</td>\n",
       "      <td>NaN</td>\n",
       "      <td>NaN</td>\n",
       "    </tr>\n",
       "    <tr>\n",
       "      <th>346</th>\n",
       "      <td>NaN</td>\n",
       "      <td>NaN</td>\n",
       "      <td>NaN</td>\n",
       "      <td>NaN</td>\n",
       "      <td>NaN</td>\n",
       "      <td>NaN</td>\n",
       "      <td>NaN</td>\n",
       "      <td>NaN</td>\n",
       "      <td>NaN</td>\n",
       "      <td>NaN</td>\n",
       "      <td>...</td>\n",
       "      <td>NaN</td>\n",
       "      <td>NaN</td>\n",
       "      <td>NaN</td>\n",
       "      <td>NaN</td>\n",
       "      <td>NaN</td>\n",
       "      <td>NaN</td>\n",
       "      <td>NaN</td>\n",
       "      <td>NaN</td>\n",
       "      <td>NaN</td>\n",
       "      <td>NaN</td>\n",
       "    </tr>\n",
       "    <tr>\n",
       "      <th>350</th>\n",
       "      <td>NaN</td>\n",
       "      <td>NaN</td>\n",
       "      <td>1.0</td>\n",
       "      <td>0.0</td>\n",
       "      <td>NaN</td>\n",
       "      <td>NaN</td>\n",
       "      <td>NaN</td>\n",
       "      <td>NaN</td>\n",
       "      <td>1.0</td>\n",
       "      <td>1.0</td>\n",
       "      <td>...</td>\n",
       "      <td>NaN</td>\n",
       "      <td>NaN</td>\n",
       "      <td>NaN</td>\n",
       "      <td>NaN</td>\n",
       "      <td>NaN</td>\n",
       "      <td>NaN</td>\n",
       "      <td>NaN</td>\n",
       "      <td>NaN</td>\n",
       "      <td>NaN</td>\n",
       "      <td>NaN</td>\n",
       "    </tr>\n",
       "    <tr>\n",
       "      <th>363</th>\n",
       "      <td>NaN</td>\n",
       "      <td>NaN</td>\n",
       "      <td>NaN</td>\n",
       "      <td>NaN</td>\n",
       "      <td>0.0</td>\n",
       "      <td>0.0</td>\n",
       "      <td>NaN</td>\n",
       "      <td>0.0</td>\n",
       "      <td>NaN</td>\n",
       "      <td>NaN</td>\n",
       "      <td>...</td>\n",
       "      <td>NaN</td>\n",
       "      <td>NaN</td>\n",
       "      <td>NaN</td>\n",
       "      <td>NaN</td>\n",
       "      <td>NaN</td>\n",
       "      <td>NaN</td>\n",
       "      <td>NaN</td>\n",
       "      <td>NaN</td>\n",
       "      <td>NaN</td>\n",
       "      <td>NaN</td>\n",
       "    </tr>\n",
       "  </tbody>\n",
       "</table>\n",
       "<p>5 rows × 391 columns</p>\n",
       "</div>"
      ],
      "text/plain": [
       "question_id  13     21     26     27     28     37     44     45     53     \\\n",
       "user_id                                                                      \n",
       "34             0.0    NaN    0.0    0.0    0.0    0.0    0.0    0.0    0.0   \n",
       "324            1.0    NaN    0.0    1.0    1.0    1.0    0.0    0.0    1.0   \n",
       "346            NaN    NaN    NaN    NaN    NaN    NaN    NaN    NaN    NaN   \n",
       "350            NaN    NaN    1.0    0.0    NaN    NaN    NaN    NaN    1.0   \n",
       "363            NaN    NaN    NaN    NaN    0.0    0.0    NaN    0.0    NaN   \n",
       "\n",
       "question_id  54     ...    15065  15071  15142  15147  15403  15412  15413  \\\n",
       "user_id             ...                                                      \n",
       "34             1.0  ...      0.0    0.0    0.0    0.0    0.0    0.0    0.0   \n",
       "324            1.0  ...      NaN    NaN    NaN    NaN    NaN    NaN    NaN   \n",
       "346            NaN  ...      NaN    NaN    NaN    NaN    NaN    NaN    NaN   \n",
       "350            1.0  ...      NaN    NaN    NaN    NaN    NaN    NaN    NaN   \n",
       "363            NaN  ...      NaN    NaN    NaN    NaN    NaN    NaN    NaN   \n",
       "\n",
       "question_id  15415  15865  15872  \n",
       "user_id                           \n",
       "34             0.0    0.0    0.0  \n",
       "324            NaN    NaN    NaN  \n",
       "346            NaN    NaN    NaN  \n",
       "350            NaN    NaN    NaN  \n",
       "363            NaN    NaN    NaN  \n",
       "\n",
       "[5 rows x 391 columns]"
      ]
     },
     "execution_count": 92,
     "metadata": {},
     "output_type": "execute_result"
    }
   ],
   "source": [
    "student_data_sample = student_data_matrix.copy()\n",
    "student_data_sample.head(n=5)"
   ]
  },
  {
   "cell_type": "code",
   "execution_count": 93,
   "metadata": {
    "collapsed": false,
    "scrolled": false
   },
   "outputs": [],
   "source": [
    "misclass = 0\n",
    "total_val = 0\n",
    "for i in student_data_sample.columns:\n",
    "    output_data = User_weight*Item_mean[i]\n",
    "    output_data[output_data>=0.56]=1\n",
    "    output_data[output_data<0.56]=0\n",
    "    student_data_sample.loc[student_data_sample[i].isnull(),i]=output_data[student_data_sample[i].isnull()]\n",
    "    predicted_labels = output_data[student_data_matrix.loc[:,i].notnull()]\n",
    "    actual_labels = student_data_matrix.loc[student_data_matrix.loc[:,i].notnull(),i]\n",
    "    diff=predicted_labels-actual_labels\n",
    "    misclass = misclass + len(diff[diff!=0])\n",
    "    total_val = total_val + len(actual_labels)\n",
    "    "
   ]
  },
  {
   "cell_type": "markdown",
   "metadata": {},
   "source": [
    "##### Accuracy on how well the information is captured through  Collaborative Filtering and Relative Ranking estimate combined"
   ]
  },
  {
   "cell_type": "code",
   "execution_count": 94,
   "metadata": {
    "collapsed": false
   },
   "outputs": [
    {
     "data": {
      "text/plain": [
       "0.7867545977781609"
      ]
     },
     "execution_count": 94,
     "metadata": {},
     "output_type": "execute_result"
    }
   ],
   "source": [
    "accuracy_collab_relative = 1-(float(misclass)/float(total_val))\n",
    "accuracy_collab_relative"
   ]
  },
  {
   "cell_type": "markdown",
   "metadata": {},
   "source": [
    "### Accuracy Comparison between the two methods of Imputation"
   ]
  },
  {
   "cell_type": "code",
   "execution_count": 100,
   "metadata": {
    "collapsed": false
   },
   "outputs": [
    {
     "name": "stdout",
     "output_type": "stream",
     "text": [
      "Accuracy(RelAbility Estimate):0.751663198617\n",
      "Accuracy(Collaborative + RelAbility Estimate):0.786754597778\n"
     ]
    }
   ],
   "source": [
    "print \"Accuracy(RelAbility Estimate):\" + str(accuracy_rel_ability)\n",
    "print \"Accuracy(Collaborative + RelAbility Estimate):\" + str(accuracy_collab_relative)"
   ]
  },
  {
   "cell_type": "markdown",
   "metadata": {},
   "source": [
    "### Item Discrimination Estimate"
   ]
  },
  {
   "cell_type": "code",
   "execution_count": 101,
   "metadata": {
    "collapsed": false
   },
   "outputs": [
    {
     "data": {
      "text/plain": [
       "user_id\n",
       "34      45.0\n",
       "324    120.0\n",
       "346      4.0\n",
       "350    111.0\n",
       "363     66.0\n",
       "dtype: float64"
      ]
     },
     "execution_count": 101,
     "metadata": {},
     "output_type": "execute_result"
    }
   ],
   "source": [
    "predicted_test_result = student_data_sample.sum(axis=1)\n",
    "predicted_test_result.head(n=5)"
   ]
  },
  {
   "cell_type": "code",
   "execution_count": 102,
   "metadata": {
    "collapsed": false
   },
   "outputs": [],
   "source": [
    "def findCorr(x):\n",
    "    return x.corr(predicted_test_result)"
   ]
  },
  {
   "cell_type": "code",
   "execution_count": 103,
   "metadata": {
    "collapsed": false
   },
   "outputs": [
    {
     "data": {
      "text/plain": [
       "question_id\n",
       "1232    -0.114625\n",
       "5566    -0.001442\n",
       "12717    0.000063\n",
       "692      0.001211\n",
       "12665    0.003389\n",
       "dtype: float64"
      ]
     },
     "execution_count": 103,
     "metadata": {},
     "output_type": "execute_result"
    }
   ],
   "source": [
    "Item_discrm = student_data_sample.apply(findCorr,axis=0)\n",
    "Item_sort_list = Item_discrm.sort_values()\n",
    "Item_sort_list.head(n=5)"
   ]
  },
  {
   "cell_type": "code",
   "execution_count": 104,
   "metadata": {
    "collapsed": false
   },
   "outputs": [],
   "source": [
    "Item_discrm.to_csv(\"Discrm_Coll_RelAbility.csv\")"
   ]
  }
 ],
 "metadata": {
  "kernelspec": {
   "display_name": "Python 2",
   "language": "python",
   "name": "python2"
  },
  "language_info": {
   "codemirror_mode": {
    "name": "ipython",
    "version": 2
   },
   "file_extension": ".py",
   "mimetype": "text/x-python",
   "name": "python",
   "nbconvert_exporter": "python",
   "pygments_lexer": "ipython2",
   "version": "2.7.12"
  }
 },
 "nbformat": 4,
 "nbformat_minor": 0
}
